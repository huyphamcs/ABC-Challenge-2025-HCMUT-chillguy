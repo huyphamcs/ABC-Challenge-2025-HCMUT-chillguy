{
 "cells": [
  {
   "cell_type": "code",
   "execution_count": 17,
   "id": "c7829acd-6892-4508-9a00-7137881083dc",
   "metadata": {},
   "outputs": [],
   "source": [
    "import os\n",
    "import pandas as pd"
   ]
  },
  {
   "cell_type": "code",
   "execution_count": 19,
   "id": "e2a7d11e-3834-4b51-822a-9be43d2c951c",
   "metadata": {},
   "outputs": [],
   "source": [
    "main_directory = \"C:/Users/PC/Documents/ABC_2025/output_csvs\""
   ]
  },
  {
   "cell_type": "code",
   "execution_count": 21,
   "id": "cdb1d1f8-d77d-4d97-92b4-ff9ce3114a24",
   "metadata": {},
   "outputs": [],
   "source": [
    "activity_mapping = {str(i): i - 2805 for i in range(2806, 2815)}"
   ]
  },
  {
   "cell_type": "code",
   "execution_count": 23,
   "id": "c4f6ec5d-8d0a-49ae-8fe1-3b43be0366a1",
   "metadata": {},
   "outputs": [],
   "source": [
    "def segment_data_by_time(df, segment_duration=3):\n",
    "    segments = []\n",
    "    start_time = df['Timestamp'].iloc[0]\n",
    "    end_time = df['Timestamp'].iloc[-1]\n",
    "\n",
    "    current_time = start_time\n",
    "\n",
    "    while current_time + pd.Timedelta(seconds=segment_duration) <= end_time:\n",
    "        segment = df[(df['Timestamp'] >= current_time) & (df['Timestamp'] < current_time + pd.Timedelta(seconds=segment_duration))]\n",
    "        segments.append(segment)\n",
    "        current_time += pd.Timedelta(seconds=segment_duration)\n",
    "\n",
    "    return segments"
   ]
  },
  {
   "cell_type": "code",
   "execution_count": 25,
   "id": "1e4a8f8e-31c9-49a4-9e54-91b9bddfa5f1",
   "metadata": {},
   "outputs": [],
   "source": [
    "def load_data(directory):\n",
    "    all_segments = []\n",
    "    for file_name in os.listdir(directory):\n",
    "        if file_name.endswith('.csv'):\n",
    "            try:\n",
    "                file_path = os.path.join(directory, file_name)\n",
    "                df = pd.read_csv(file_path)\n",
    "                df.columns = ['MotionType', 'Timestamp', 'X', 'Y', 'Z']  \n",
    "\n",
    "                df['Timestamp'] = pd.to_datetime(df['Timestamp'])\n",
    "                \n",
    "                activity_key = file_name[:4] \n",
    "                activity = activity_mapping.get(activity_key, None)\n",
    "\n",
    "                df['Activity'] = activity\n",
    "                df = df.drop(columns=['MotionType'])  \n",
    "                df = df[['Activity', 'Timestamp', 'X', 'Y', 'Z']]  \n",
    "\n",
    "                segments = segment_data_by_time(df, segment_duration=3)\n",
    "\n",
    "                for segment in segments:\n",
    "                    segment = segment.drop(columns=['Timestamp']) \n",
    "                    all_segments.append(segment)\n",
    "                    \n",
    "            except Exception as e:\n",
    "                print(f\"Error reading {file_name}: {e}\")\n",
    "\n",
    "    return all_segments"
   ]
  },
  {
   "cell_type": "code",
   "execution_count": 27,
   "id": "da6f84aa-bf97-42a6-927f-5577fb6058de",
   "metadata": {},
   "outputs": [],
   "source": [
    "output_directory = os.path.join(main_directory, 'segmented_dt1')\n",
    "if not os.path.exists(output_directory):\n",
    "    os.makedirs(output_directory)"
   ]
  },
  {
   "cell_type": "code",
   "execution_count": 29,
   "id": "8909533b-13b4-4a77-95dc-566fdcd0ff4b",
   "metadata": {},
   "outputs": [],
   "source": [
    "all_segments = load_data(main_directory)"
   ]
  },
  {
   "cell_type": "code",
   "execution_count": 30,
   "id": "6166ef1f-9b13-4b9b-97f8-b4860a86bb24",
   "metadata": {},
   "outputs": [
    {
     "name": "stdout",
     "output_type": "stream",
     "text": [
      "Segment succeeded\n"
     ]
    }
   ],
   "source": [
    "for i, segment in enumerate(all_segments):\n",
    "    segment_file_name = f\"segment_{i + 1}.csv\"\n",
    "    segment_file_path = os.path.join(output_directory, segment_file_name)\n",
    "    segment.to_csv(segment_file_path, index=False)\n",
    "\n",
    "print(\"Segment succeeded\")\n"
   ]
  }
 ],
 "metadata": {
  "kernelspec": {
   "display_name": "Python [conda env:base] *",
   "language": "python",
   "name": "conda-base-py"
  },
  "language_info": {
   "codemirror_mode": {
    "name": "ipython",
    "version": 3
   },
   "file_extension": ".py",
   "mimetype": "text/x-python",
   "name": "python",
   "nbconvert_exporter": "python",
   "pygments_lexer": "ipython3",
   "version": "3.12.7"
  }
 },
 "nbformat": 4,
 "nbformat_minor": 5
}
