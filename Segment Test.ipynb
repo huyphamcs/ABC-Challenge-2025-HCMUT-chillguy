{
 "cells": [
  {
   "cell_type": "code",
   "execution_count": 1,
   "id": "d6b895f7-b7c5-4712-811a-46e70b1ac0d9",
   "metadata": {},
   "outputs": [],
   "source": [
    "import os\n",
    "import pandas as pd"
   ]
  },
  {
   "cell_type": "code",
   "execution_count": 2,
   "id": "8c49a314-76f6-408a-ba46-28457b04cfb8",
   "metadata": {},
   "outputs": [],
   "source": [
    "main_directory = \"C:/Users/PC/Documents/ABC_2025/output_csvs_test\"  "
   ]
  },
  {
   "cell_type": "code",
   "execution_count": 3,
   "id": "36d8f525-672a-42b6-94b6-55ed7a3b98b4",
   "metadata": {},
   "outputs": [],
   "source": [
    "def segment_data_by_time(df, segment_duration=3):\n",
    "    segments = []\n",
    "    start_time = df['Timestamp'].iloc[0]\n",
    "    end_time = df['Timestamp'].iloc[-1]\n",
    "\n",
    "    current_time = start_time\n",
    "\n",
    "    while current_time + pd.Timedelta(seconds=segment_duration) <= end_time:\n",
    "        segment = df[(df['Timestamp'] >= current_time) & (df['Timestamp'] < current_time + pd.Timedelta(seconds=segment_duration))]\n",
    "        segments.append(segment)\n",
    "        current_time += pd.Timedelta(seconds=segment_duration)\n",
    "\n",
    "    return segments"
   ]
  },
  {
   "cell_type": "code",
   "execution_count": 4,
   "id": "24fc70fe-e469-44fa-8ee6-23ebbdb32c9d",
   "metadata": {},
   "outputs": [],
   "source": [
    "def load_data(directory):\n",
    "    all_segments = []\n",
    "    for file_name in os.listdir(directory):\n",
    "        if file_name.endswith('.csv'):\n",
    "            try:\n",
    "                file_path = os.path.join(directory, file_name)\n",
    "                df = pd.read_csv(file_path)\n",
    "                df.columns = ['MotionType', 'Timestamp', 'X', 'Y', 'Z'] \n",
    "\n",
    "                df['Timestamp'] = pd.to_datetime(df['Timestamp'], format='ISO8601', errors='coerce')\n",
    "\n",
    "                df = df.drop(columns=['MotionType'])\n",
    "\n",
    "                segments = segment_data_by_time(df, segment_duration=3)\n",
    "                all_segments.append((file_name, segments))  \n",
    "\n",
    "            except Exception as e:\n",
    "                print(f\"Error reading {file_name}: {e}\")\n",
    "\n",
    "    return all_segments"
   ]
  },
  {
   "cell_type": "code",
   "execution_count": 7,
   "id": "174cd9eb-e6f8-43c7-981b-d159fb675cb4",
   "metadata": {},
   "outputs": [],
   "source": [
    "output_directory = os.path.join(main_directory, 'segment_test')\n",
    "if not os.path.exists(output_directory):\n",
    "    os.makedirs(output_directory)"
   ]
  },
  {
   "cell_type": "code",
   "execution_count": 11,
   "id": "dd13c5bd-acd1-405c-80f4-d5114b32d43b",
   "metadata": {},
   "outputs": [],
   "source": [
    "all_segments = load_data(main_directory)"
   ]
  },
  {
   "cell_type": "code",
   "execution_count": 12,
   "id": "70557137-3f28-4d06-94d8-81493f6c6a75",
   "metadata": {},
   "outputs": [
    {
     "name": "stdout",
     "output_type": "stream",
     "text": [
      "Data segmentation completed and saved.\n"
     ]
    }
   ],
   "source": [
    "for file_name, segments in all_segments:  \n",
    "    for i, segment in enumerate(segments):\n",
    "        base_name = os.path.splitext(file_name)[0]  \n",
    "        segment_file_name = f\"{base_name}_{i + 1}.csv\" \n",
    "        segment_file_path = os.path.join(output_directory, segment_file_name)\n",
    "        segment.to_csv(segment_file_path, index=False)\n",
    "        \n",
    "print(\"Data segmentation completed and saved.\")"
   ]
  },
  {
   "cell_type": "code",
   "execution_count": null,
   "id": "4a0f66ae-d721-4435-afb0-134c69b152ad",
   "metadata": {},
   "outputs": [],
   "source": []
  }
 ],
 "metadata": {
  "kernelspec": {
   "display_name": "Python [conda env:base] *",
   "language": "python",
   "name": "conda-base-py"
  },
  "language_info": {
   "codemirror_mode": {
    "name": "ipython",
    "version": 3
   },
   "file_extension": ".py",
   "mimetype": "text/x-python",
   "name": "python",
   "nbconvert_exporter": "python",
   "pygments_lexer": "ipython3",
   "version": "3.12.7"
  }
 },
 "nbformat": 4,
 "nbformat_minor": 5
}
